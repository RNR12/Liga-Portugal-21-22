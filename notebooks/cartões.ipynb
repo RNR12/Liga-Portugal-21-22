{
 "cells": [
  {
   "cell_type": "markdown",
   "id": "c96a7399",
   "metadata": {},
   "source": [
    "<h1 style=\"font-size:3rem;color:orange;\">Dados Campeonato Liga Portugal 21-22 </h1>"
   ]
  },
  {
   "cell_type": "markdown",
   "id": "7894423f",
   "metadata": {},
   "source": [
    "# Dados estatísticos sobre o comportamento disciplinar das equipas no campeonato"
   ]
  },
  {
   "cell_type": "markdown",
   "id": "12dabda5",
   "metadata": {},
   "source": [
    "<img src=\"https://www.ligaportugal.pt/media/33648/logo-lpbwin.png?anchor=center&mode=crop&width=647&height=485&rnd=132727202950000000\">"
   ]
  },
  {
   "cell_type": "code",
   "execution_count": 1,
   "id": "7b10bde2",
   "metadata": {},
   "outputs": [
    {
     "data": {
      "text/html": [
       "<div>\n",
       "<style scoped>\n",
       "    .dataframe tbody tr th:only-of-type {\n",
       "        vertical-align: middle;\n",
       "    }\n",
       "\n",
       "    .dataframe tbody tr th {\n",
       "        vertical-align: top;\n",
       "    }\n",
       "\n",
       "    .dataframe thead th {\n",
       "        text-align: right;\n",
       "    }\n",
       "</style>\n",
       "<table border=\"1\" class=\"dataframe\">\n",
       "  <thead>\n",
       "    <tr style=\"text-align: right;\">\n",
       "      <th></th>\n",
       "      <th>clube</th>\n",
       "      <th>partidas_efetuadas</th>\n",
       "      <th>cartoes_amarelos</th>\n",
       "      <th>cartoes_vermelhos</th>\n",
       "    </tr>\n",
       "  </thead>\n",
       "  <tbody>\n",
       "    <tr>\n",
       "      <th>0</th>\n",
       "      <td>Belenenses SAD</td>\n",
       "      <td>34</td>\n",
       "      <td>117</td>\n",
       "      <td>11</td>\n",
       "    </tr>\n",
       "    <tr>\n",
       "      <th>1</th>\n",
       "      <td>Boavista</td>\n",
       "      <td>34</td>\n",
       "      <td>114</td>\n",
       "      <td>10</td>\n",
       "    </tr>\n",
       "    <tr>\n",
       "      <th>2</th>\n",
       "      <td>Vitoria de Guimaraes</td>\n",
       "      <td>34</td>\n",
       "      <td>113</td>\n",
       "      <td>7</td>\n",
       "    </tr>\n",
       "    <tr>\n",
       "      <th>3</th>\n",
       "      <td>Portimonense</td>\n",
       "      <td>34</td>\n",
       "      <td>111</td>\n",
       "      <td>6</td>\n",
       "    </tr>\n",
       "    <tr>\n",
       "      <th>4</th>\n",
       "      <td>Moreirense</td>\n",
       "      <td>34</td>\n",
       "      <td>111</td>\n",
       "      <td>6</td>\n",
       "    </tr>\n",
       "    <tr>\n",
       "      <th>5</th>\n",
       "      <td>Maritimo</td>\n",
       "      <td>34</td>\n",
       "      <td>105</td>\n",
       "      <td>8</td>\n",
       "    </tr>\n",
       "    <tr>\n",
       "      <th>6</th>\n",
       "      <td>Estoril</td>\n",
       "      <td>34</td>\n",
       "      <td>102</td>\n",
       "      <td>8</td>\n",
       "    </tr>\n",
       "    <tr>\n",
       "      <th>7</th>\n",
       "      <td>Santa Clara</td>\n",
       "      <td>34</td>\n",
       "      <td>94</td>\n",
       "      <td>9</td>\n",
       "    </tr>\n",
       "    <tr>\n",
       "      <th>8</th>\n",
       "      <td>Famalicao</td>\n",
       "      <td>34</td>\n",
       "      <td>102</td>\n",
       "      <td>6</td>\n",
       "    </tr>\n",
       "    <tr>\n",
       "      <th>9</th>\n",
       "      <td>Sporting CP</td>\n",
       "      <td>34</td>\n",
       "      <td>98</td>\n",
       "      <td>7</td>\n",
       "    </tr>\n",
       "    <tr>\n",
       "      <th>10</th>\n",
       "      <td>Pacos de Ferreira</td>\n",
       "      <td>34</td>\n",
       "      <td>103</td>\n",
       "      <td>5</td>\n",
       "    </tr>\n",
       "    <tr>\n",
       "      <th>11</th>\n",
       "      <td>Tondela</td>\n",
       "      <td>34</td>\n",
       "      <td>99</td>\n",
       "      <td>6</td>\n",
       "    </tr>\n",
       "    <tr>\n",
       "      <th>12</th>\n",
       "      <td>FC Vizela</td>\n",
       "      <td>34</td>\n",
       "      <td>98</td>\n",
       "      <td>6</td>\n",
       "    </tr>\n",
       "    <tr>\n",
       "      <th>13</th>\n",
       "      <td>Arouca</td>\n",
       "      <td>34</td>\n",
       "      <td>94</td>\n",
       "      <td>6</td>\n",
       "    </tr>\n",
       "    <tr>\n",
       "      <th>14</th>\n",
       "      <td>FC Porto</td>\n",
       "      <td>34</td>\n",
       "      <td>82</td>\n",
       "      <td>6</td>\n",
       "    </tr>\n",
       "    <tr>\n",
       "      <th>15</th>\n",
       "      <td>Gil Vicente</td>\n",
       "      <td>34</td>\n",
       "      <td>87</td>\n",
       "      <td>4</td>\n",
       "    </tr>\n",
       "    <tr>\n",
       "      <th>16</th>\n",
       "      <td>Sporting de Braga</td>\n",
       "      <td>34</td>\n",
       "      <td>76</td>\n",
       "      <td>5</td>\n",
       "    </tr>\n",
       "    <tr>\n",
       "      <th>17</th>\n",
       "      <td>SL Benfica</td>\n",
       "      <td>34</td>\n",
       "      <td>81</td>\n",
       "      <td>3</td>\n",
       "    </tr>\n",
       "  </tbody>\n",
       "</table>\n",
       "</div>"
      ],
      "text/plain": [
       "                   clube  partidas_efetuadas  cartoes_amarelos  \\\n",
       "0         Belenenses SAD                  34               117   \n",
       "1               Boavista                  34               114   \n",
       "2   Vitoria de Guimaraes                  34               113   \n",
       "3           Portimonense                  34               111   \n",
       "4             Moreirense                  34               111   \n",
       "5               Maritimo                  34               105   \n",
       "6                Estoril                  34               102   \n",
       "7            Santa Clara                  34                94   \n",
       "8              Famalicao                  34               102   \n",
       "9            Sporting CP                  34                98   \n",
       "10     Pacos de Ferreira                  34               103   \n",
       "11               Tondela                  34                99   \n",
       "12             FC Vizela                  34                98   \n",
       "13                Arouca                  34                94   \n",
       "14              FC Porto                  34                82   \n",
       "15           Gil Vicente                  34                87   \n",
       "16     Sporting de Braga                  34                76   \n",
       "17            SL Benfica                  34                81   \n",
       "\n",
       "    cartoes_vermelhos  \n",
       "0                  11  \n",
       "1                  10  \n",
       "2                   7  \n",
       "3                   6  \n",
       "4                   6  \n",
       "5                   8  \n",
       "6                   8  \n",
       "7                   9  \n",
       "8                   6  \n",
       "9                   7  \n",
       "10                  5  \n",
       "11                  6  \n",
       "12                  6  \n",
       "13                  6  \n",
       "14                  6  \n",
       "15                  4  \n",
       "16                  5  \n",
       "17                  3  "
      ]
     },
     "execution_count": 1,
     "metadata": {},
     "output_type": "execute_result"
    }
   ],
   "source": [
    "import pandas as pd\n",
    "import matplotlib.pyplot as plt\n",
    "\n",
    "#Para sabermos a quantidade de cartões amarelos e vermelhos das equipas \n",
    "df=pd.read_csv(\"cartoes.csv\", header=0)\n",
    "df.head(18)"
   ]
  },
  {
   "cell_type": "code",
   "execution_count": 2,
   "id": "fbe559a4",
   "metadata": {},
   "outputs": [
    {
     "data": {
      "text/html": [
       "<div>\n",
       "<style scoped>\n",
       "    .dataframe tbody tr th:only-of-type {\n",
       "        vertical-align: middle;\n",
       "    }\n",
       "\n",
       "    .dataframe tbody tr th {\n",
       "        vertical-align: top;\n",
       "    }\n",
       "\n",
       "    .dataframe thead th {\n",
       "        text-align: right;\n",
       "    }\n",
       "</style>\n",
       "<table border=\"1\" class=\"dataframe\">\n",
       "  <thead>\n",
       "    <tr style=\"text-align: right;\">\n",
       "      <th></th>\n",
       "      <th>clube</th>\n",
       "      <th>cartoes_amarelos</th>\n",
       "      <th>cartoes_vermelhos</th>\n",
       "    </tr>\n",
       "  </thead>\n",
       "  <tbody>\n",
       "    <tr>\n",
       "      <th>0</th>\n",
       "      <td>Belenenses SAD</td>\n",
       "      <td>117</td>\n",
       "      <td>11</td>\n",
       "    </tr>\n",
       "  </tbody>\n",
       "</table>\n",
       "</div>"
      ],
      "text/plain": [
       "            clube  cartoes_amarelos  cartoes_vermelhos\n",
       "0  Belenenses SAD               117                 11"
      ]
     },
     "execution_count": 2,
     "metadata": {},
     "output_type": "execute_result"
    }
   ],
   "source": [
    "#No geral, qual foi a pior equipa a nível disciplinar desta edição do campeonato? \n",
    "pior = df[['clube', 'cartoes_amarelos', 'cartoes_vermelhos']]\n",
    "pior.head(1)"
   ]
  },
  {
   "cell_type": "code",
   "execution_count": 3,
   "id": "47ca00b2",
   "metadata": {},
   "outputs": [
    {
     "name": "stdout",
     "output_type": "stream",
     "text": [
      "117\n",
      "Belenenses SAD\n"
     ]
    }
   ],
   "source": [
    "#Qual foi a equipa com mais cartões amarelos nesta edição do campeonato?\n",
    "print(df['cartoes_amarelos'].max())\n",
    "cartoes_amarelos = df['cartoes_amarelos'].idxmax()\n",
    "print(df['clube'][cartoes_amarelos])"
   ]
  },
  {
   "cell_type": "code",
   "execution_count": 4,
   "id": "4ac5ab57",
   "metadata": {},
   "outputs": [
    {
     "name": "stdout",
     "output_type": "stream",
     "text": [
      "76\n",
      "Sporting de Braga\n"
     ]
    }
   ],
   "source": [
    "#Qual foi a equipa com menos cartões amarelos nesta edição do campeonato?\n",
    "print(df['cartoes_amarelos'].min())\n",
    "cartoes_amarelos = df['cartoes_amarelos'].idxmin()\n",
    "print(df['clube'][cartoes_amarelos])"
   ]
  },
  {
   "cell_type": "code",
   "execution_count": 5,
   "id": "a4786dc9",
   "metadata": {},
   "outputs": [
    {
     "name": "stdout",
     "output_type": "stream",
     "text": [
      "11\n",
      "Belenenses SAD\n"
     ]
    }
   ],
   "source": [
    "#Qual foi a equipa com mais cartões vermelhos nesta edição do campeonato?\n",
    "print(df['cartoes_vermelhos'].max())\n",
    "cartoes_vermelhos = df['cartoes_vermelhos'].idxmax()\n",
    "print(df['clube'][cartoes_vermelhos])"
   ]
  },
  {
   "cell_type": "code",
   "execution_count": 6,
   "id": "c643422c",
   "metadata": {},
   "outputs": [
    {
     "name": "stdout",
     "output_type": "stream",
     "text": [
      "3\n",
      "SL Benfica\n"
     ]
    }
   ],
   "source": [
    "#Qual foi a equipa com menos cartões vermelhos nesta edição do campeonato?\n",
    "print(df['cartoes_vermelhos'].min())\n",
    "cartoes_vermelhos = df['cartoes_vermelhos'].idxmin()\n",
    "print(df['clube'][cartoes_vermelhos])"
   ]
  },
  {
   "cell_type": "code",
   "execution_count": 2,
   "id": "f605aeb8",
   "metadata": {},
   "outputs": [
    {
     "data": {
      "text/plain": [
       "0    3.441\n",
       "1    3.353\n",
       "2    3.324\n",
       "3    3.265\n",
       "4    3.265\n",
       "5    3.088\n",
       "6    3.000\n",
       "7    2.765\n",
       "8    3.000\n",
       "9    2.882\n",
       "10   3.029\n",
       "11   2.912\n",
       "12   2.882\n",
       "13   2.765\n",
       "14   2.412\n",
       "15   2.559\n",
       "16   2.235\n",
       "17   2.382\n",
       "Name: cartoes_amarelos, dtype: float64"
      ]
     },
     "execution_count": 2,
     "metadata": {},
     "output_type": "execute_result"
    }
   ],
   "source": [
    "#Qual é a média de cartões amarelos p/ jogo de cada equipa?\n",
    "\n",
    "pd.options.display.float_format = '{:,.3f}'.format\n",
    "avg_amarelos = df[\"cartoes_amarelos\"] / 34\n",
    "avg_amarelos"
   ]
  },
  {
   "cell_type": "code",
   "execution_count": 3,
   "id": "1ae7a5a0",
   "metadata": {},
   "outputs": [
    {
     "data": {
      "text/plain": [
       "0    0.324\n",
       "1    0.294\n",
       "2    0.206\n",
       "3    0.176\n",
       "4    0.176\n",
       "5    0.235\n",
       "6    0.235\n",
       "7    0.265\n",
       "8    0.176\n",
       "9    0.206\n",
       "10   0.147\n",
       "11   0.176\n",
       "12   0.176\n",
       "13   0.176\n",
       "14   0.176\n",
       "15   0.118\n",
       "16   0.147\n",
       "17   0.088\n",
       "Name: cartoes_vermelhos, dtype: float64"
      ]
     },
     "execution_count": 3,
     "metadata": {},
     "output_type": "execute_result"
    }
   ],
   "source": [
    "#Qual é a média de cartões vermelhos p/jogo de cada equipa equipa?\n",
    "\n",
    "pd.options.display.float_format = '{:,.3f}'.format\n",
    "avg_vermelhos = df[\"cartoes_vermelhos\"] / 34\n",
    "avg_vermelhos"
   ]
  },
  {
   "cell_type": "code",
   "execution_count": 8,
   "id": "f31e7480",
   "metadata": {},
   "outputs": [
    {
     "data": {
      "image/png": "[encoded data removed]",
      "text/plain": [
       "<Figure size 720x576 with 1 Axes>"
      ]
     },
     "metadata": {
      "needs_background": "light"
     },
     "output_type": "display_data"
    }
   ],
   "source": [
    "#Gráfico de cartões amarelos ao longo do campeonato\n",
    "\n",
    "_ = plt.figure(figsize=(10,8))\n",
    "_ = plt.bar(df[\"clube\"], df[\"cartoes_amarelos\"],align = \"center\", color=(\"yellow\"))\n",
    "_ = plt.xlabel(\"Equipas\")\n",
    "_ = plt.ylabel(\"Nº Cartões Amarelos\")\n",
    "_ = plt.xticks(rotation = 90)\n",
    "_ = plt.title(\"Distribuição de cartões amarelos na Liga Portugal 21-22\")\n",
    "plt.show()"
   ]
  },
  {
   "cell_type": "code",
   "execution_count": 9,
   "id": "5fa10f17",
   "metadata": {},
   "outputs": [
    {
     "data": {
      "image/png": "[encoded data removed]",
      "text/plain": [
       "<Figure size 720x576 with 1 Axes>"
      ]
     },
     "metadata": {
      "needs_background": "light"
     },
     "output_type": "display_data"
    }
   ],
   "source": [
    "#Gráfico de cartões vermelhos ao longo do campeonato\n",
    "\n",
    "_ = plt.figure(figsize=(10,8))\n",
    "_ = plt.bar(df[\"clube\"], df[\"cartoes_vermelhos\"],align = \"center\", color=(\"red\"))\n",
    "_ = plt.xlabel(\"Equipas\")\n",
    "_ = plt.ylabel(\"Nº Cartões Vermelhos\")\n",
    "_ = plt.xticks(rotation = 90)\n",
    "_ = plt.title(\"Distribuição de cartões vermelhos na Liga Portugal 21-22\")\n",
    "plt.show()"
   ]
  },
  {
   "cell_type": "code",
   "execution_count": null,
   "id": "38b5362d",
   "metadata": {},
   "outputs": [],
   "source": []
  }
 ],
 "metadata": {
  "kernelspec": {
   "display_name": "Python 3 (ipykernel)",
   "language": "python",
   "name": "python3"
  },
  "language_info": {
   "codemirror_mode": {
    "name": "ipython",
    "version": 3
   },
   "file_extension": ".py",
   "mimetype": "text/x-python",
   "name": "python",
   "nbconvert_exporter": "python",
   "pygments_lexer": "ipython3",
   "version": "3.9.7"
  }
 },
 "nbformat": 4,
 "nbformat_minor": 5
}
